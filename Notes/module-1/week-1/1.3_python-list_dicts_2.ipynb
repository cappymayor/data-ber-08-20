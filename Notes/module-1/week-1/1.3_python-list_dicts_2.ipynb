{
 "cells": [
  {
   "cell_type": "markdown",
   "metadata": {},
   "source": [
    "# Dicts and Lists"
   ]
  },
  {
   "cell_type": "markdown",
   "metadata": {},
   "source": [
    "## 1. Using `dict`s for control flow"
   ]
  },
  {
   "cell_type": "markdown",
   "metadata": {},
   "source": [
    "We are at a supermarket. For all customers that are checking out, we want to give them something to make them happier.\n",
    "For for purchases:\n",
    "```\n",
    "x < 10: chocolate\n",
    "10 <= x <20: sanitizer\n",
    "20 <= x <30: gift card\n",
    "30 <= x <40: wine\n",
    "```"
   ]
  },
  {
   "cell_type": "code",
   "execution_count": 1,
   "metadata": {},
   "outputs": [],
   "source": [
    "import random"
   ]
  },
  {
   "cell_type": "code",
   "execution_count": 2,
   "metadata": {},
   "outputs": [],
   "source": [
    "shoppers = random.sample(range(40), 20)"
   ]
  },
  {
   "cell_type": "code",
   "execution_count": 3,
   "metadata": {},
   "outputs": [
    {
     "data": {
      "text/plain": [
       "[15, 35, 2, 8, 13, 14, 21, 18, 29, 12, 10, 38, 28, 23, 27, 4, 3, 9, 34, 20]"
      ]
     },
     "execution_count": 3,
     "metadata": {},
     "output_type": "execute_result"
    }
   ],
   "source": [
    "shoppers"
   ]
  },
  {
   "cell_type": "code",
   "execution_count": 6,
   "metadata": {},
   "outputs": [
    {
     "name": "stdout",
     "output_type": "stream",
     "text": [
      "sanitizer\n",
      "wine\n",
      "chocolate\n",
      "chocolate\n",
      "sanitizer\n",
      "sanitizer\n",
      "gift card\n",
      "sanitizer\n",
      "gift card\n",
      "sanitizer\n",
      "sanitizer\n",
      "wine\n",
      "gift card\n",
      "gift card\n",
      "gift card\n",
      "chocolate\n",
      "chocolate\n",
      "chocolate\n",
      "wine\n",
      "gift card\n"
     ]
    }
   ],
   "source": [
    "for purchase_price in shoppers:\n",
    "    if purchase_price < 10:\n",
    "        print(\"chocolate\")\n",
    "    elif purchase_price < 20: \n",
    "        print(\"sanitizer\")\n",
    "    elif purchase_price < 30:\n",
    "        print(\"gift card\")\n",
    "    elif purchase_price < 40:\n",
    "        print(\"wine\")   "
   ]
  },
  {
   "cell_type": "markdown",
   "metadata": {},
   "source": [
    "simplify by not checking for ranges:"
   ]
  },
  {
   "cell_type": "code",
   "execution_count": 7,
   "metadata": {},
   "outputs": [
    {
     "data": {
      "text/plain": [
       "[15, 35, 2, 8, 13, 14, 21, 18, 29, 12, 10, 38, 28, 23, 27, 4, 3, 9, 34, 20]"
      ]
     },
     "execution_count": 7,
     "metadata": {},
     "output_type": "execute_result"
    }
   ],
   "source": [
    "shoppers"
   ]
  },
  {
   "cell_type": "code",
   "execution_count": 8,
   "metadata": {},
   "outputs": [
    {
     "data": {
      "text/plain": [
       "1"
      ]
     },
     "execution_count": 8,
     "metadata": {},
     "output_type": "execute_result"
    }
   ],
   "source": [
    "int(shoppers[0]/10)"
   ]
  },
  {
   "cell_type": "code",
   "execution_count": 9,
   "metadata": {},
   "outputs": [
    {
     "data": {
      "text/plain": [
       "3"
      ]
     },
     "execution_count": 9,
     "metadata": {},
     "output_type": "execute_result"
    }
   ],
   "source": [
    "int(shoppers[1]/10)"
   ]
  },
  {
   "cell_type": "code",
   "execution_count": 10,
   "metadata": {},
   "outputs": [
    {
     "name": "stdout",
     "output_type": "stream",
     "text": [
      "sanitizer\n",
      "wine\n",
      "chocolate\n",
      "chocolate\n",
      "sanitizer\n",
      "sanitizer\n",
      "gift card\n",
      "sanitizer\n",
      "gift card\n",
      "sanitizer\n",
      "sanitizer\n",
      "wine\n",
      "gift card\n",
      "gift card\n",
      "gift card\n",
      "chocolate\n",
      "chocolate\n",
      "chocolate\n",
      "wine\n",
      "gift card\n"
     ]
    }
   ],
   "source": [
    "for purchase_price in shoppers:\n",
    "    purchase_price = int(purchase_price/10)\n",
    "    if purchase_price == 0:\n",
    "        print(\"chocolate\")\n",
    "    elif purchase_price == 1:\n",
    "        print(\"sanitizer\")\n",
    "    elif purchase_price ==2:\n",
    "        print(\"gift card\")\n",
    "    else:\n",
    "        print(\"wine\")"
   ]
  },
  {
   "cell_type": "markdown",
   "metadata": {},
   "source": [
    "adding dictionary:"
   ]
  },
  {
   "cell_type": "code",
   "execution_count": 11,
   "metadata": {},
   "outputs": [],
   "source": [
    "rewards = {0: \"Chocolate\",\n",
    "          1: \"Sanitizer\",\n",
    "          2: \"Gift Card\",\n",
    "          3: \"Wine\"}"
   ]
  },
  {
   "cell_type": "code",
   "execution_count": 12,
   "metadata": {},
   "outputs": [
    {
     "data": {
      "text/plain": [
       "{0: 'Chocolate', 1: 'Sanitizer', 2: 'Gift Card', 3: 'Wine'}"
      ]
     },
     "execution_count": 12,
     "metadata": {},
     "output_type": "execute_result"
    }
   ],
   "source": [
    "rewards"
   ]
  },
  {
   "cell_type": "code",
   "execution_count": 13,
   "metadata": {},
   "outputs": [
    {
     "data": {
      "text/plain": [
       "'Wine'"
      ]
     },
     "execution_count": 13,
     "metadata": {},
     "output_type": "execute_result"
    }
   ],
   "source": [
    "rewards[3]"
   ]
  },
  {
   "cell_type": "code",
   "execution_count": 14,
   "metadata": {},
   "outputs": [
    {
     "name": "stdout",
     "output_type": "stream",
     "text": [
      "Sanitizer\n",
      "Wine\n",
      "Chocolate\n",
      "Chocolate\n",
      "Sanitizer\n",
      "Sanitizer\n",
      "Gift Card\n",
      "Sanitizer\n",
      "Gift Card\n",
      "Sanitizer\n",
      "Sanitizer\n",
      "Wine\n",
      "Gift Card\n",
      "Gift Card\n",
      "Gift Card\n",
      "Chocolate\n",
      "Chocolate\n",
      "Chocolate\n",
      "Wine\n",
      "Gift Card\n"
     ]
    }
   ],
   "source": [
    "for purchase_price in shoppers:\n",
    "    purchase_price = int(purchase_price/10)\n",
    "    print(rewards[purchase_price])"
   ]
  }
 ],
 "metadata": {
  "kernelspec": {
   "display_name": "Python 3",
   "language": "python",
   "name": "python3"
  },
  "language_info": {
   "codemirror_mode": {
    "name": "ipython",
    "version": 3
   },
   "file_extension": ".py",
   "mimetype": "text/x-python",
   "name": "python",
   "nbconvert_exporter": "python",
   "pygments_lexer": "ipython3",
   "version": "3.8.5"
  }
 },
 "nbformat": 4,
 "nbformat_minor": 4
}
