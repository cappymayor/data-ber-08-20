{
 "cells": [
  {
   "cell_type": "markdown",
   "metadata": {},
   "source": [
    "# List Comprehensions"
   ]
  },
  {
   "cell_type": "code",
   "execution_count": 1,
   "metadata": {},
   "outputs": [],
   "source": [
    "sample = list(range(10))"
   ]
  },
  {
   "cell_type": "code",
   "execution_count": 2,
   "metadata": {},
   "outputs": [
    {
     "data": {
      "text/plain": [
       "[0, 1, 2, 3, 4, 5, 6, 7, 8, 9]"
      ]
     },
     "execution_count": 2,
     "metadata": {},
     "output_type": "execute_result"
    }
   ],
   "source": [
    "sample"
   ]
  },
  {
   "cell_type": "code",
   "execution_count": 3,
   "metadata": {},
   "outputs": [
    {
     "data": {
      "text/plain": [
       "[10, 11, 12, 13, 14, 15, 16, 17, 18, 19]"
      ]
     },
     "execution_count": 3,
     "metadata": {},
     "output_type": "execute_result"
    }
   ],
   "source": [
    "sample_plus_10 = []\n",
    "for i in sample: \n",
    "    sample_plus_10.append(i+10)\n",
    "    \n",
    "sample_plus_10"
   ]
  },
  {
   "cell_type": "code",
   "execution_count": 5,
   "metadata": {},
   "outputs": [],
   "source": [
    "sample_plus_10_2 = [i+10 for i in sample]"
   ]
  },
  {
   "cell_type": "code",
   "execution_count": 6,
   "metadata": {},
   "outputs": [
    {
     "data": {
      "text/plain": [
       "[10, 11, 12, 13, 14, 15, 16, 17, 18, 19]"
      ]
     },
     "execution_count": 6,
     "metadata": {},
     "output_type": "execute_result"
    }
   ],
   "source": [
    "sample_plus_10_2"
   ]
  },
  {
   "cell_type": "markdown",
   "metadata": {},
   "source": [
    "List Comprehensions\n",
    " - use brackets to tell python you want to apply list comprehensions []\n",
    " - a list comprehension returns a list\n",
    " 1. component - function or transformation\n",
    " 2. component - loop"
   ]
  },
  {
   "cell_type": "code",
   "execution_count": 7,
   "metadata": {},
   "outputs": [
    {
     "data": {
      "text/plain": [
       "list"
      ]
     },
     "execution_count": 7,
     "metadata": {},
     "output_type": "execute_result"
    }
   ],
   "source": [
    "type(sample_plus_10_2)"
   ]
  },
  {
   "cell_type": "code",
   "execution_count": 8,
   "metadata": {},
   "outputs": [
    {
     "data": {
      "text/plain": [
       "[0, 1, 4, 9, 16, 25, 36, 49, 64, 81]"
      ]
     },
     "execution_count": 8,
     "metadata": {},
     "output_type": "execute_result"
    }
   ],
   "source": [
    "[i**2 for i in sample]"
   ]
  },
  {
   "cell_type": "markdown",
   "metadata": {},
   "source": [
    "Combining with control flow"
   ]
  },
  {
   "cell_type": "code",
   "execution_count": 9,
   "metadata": {},
   "outputs": [],
   "source": [
    "import random\n",
    "another_sample = random.sample(range(100), 40)"
   ]
  },
  {
   "cell_type": "code",
   "execution_count": 12,
   "metadata": {},
   "outputs": [
    {
     "data": {
      "text/plain": [
       "[87, 52, 1, 96, 39, 12, 22, 51, 41, 91]"
      ]
     },
     "execution_count": 12,
     "metadata": {},
     "output_type": "execute_result"
    }
   ],
   "source": [
    "another_sample[:10]"
   ]
  },
  {
   "cell_type": "code",
   "execution_count": 14,
   "metadata": {},
   "outputs": [
    {
     "data": {
      "text/plain": [
       "[49,\n",
       " 93,\n",
       " 9,\n",
       " 19,\n",
       " 65,\n",
       " 63,\n",
       " 69,\n",
       " 43,\n",
       " 91,\n",
       " 39,\n",
       " 83,\n",
       " 11,\n",
       " 57,\n",
       " 25,\n",
       " 89,\n",
       " 61,\n",
       " 51,\n",
       " 55,\n",
       " 33,\n",
       " 75,\n",
       " 95,\n",
       " 79]"
      ]
     },
     "execution_count": 14,
     "metadata": {},
     "output_type": "execute_result"
    }
   ],
   "source": [
    "#iterate over another_sample and keepy only those elements that are even\n",
    "#for those that are even, subtract 3\n",
    "\n",
    "even_minus_three = []\n",
    "for i in another_sample:\n",
    "    #check if even\n",
    "    if i%2 == 0:\n",
    "        #if it is even, append even_minus_three with i-3\n",
    "        even_minus_three.append(i-3)\n",
    "\n",
    "even_minus_three"
   ]
  },
  {
   "cell_type": "code",
   "execution_count": 15,
   "metadata": {},
   "outputs": [
    {
     "data": {
      "text/plain": [
       "[49,\n",
       " 93,\n",
       " 9,\n",
       " 19,\n",
       " 65,\n",
       " 63,\n",
       " 69,\n",
       " 43,\n",
       " 91,\n",
       " 39,\n",
       " 83,\n",
       " 11,\n",
       " 57,\n",
       " 25,\n",
       " 89,\n",
       " 61,\n",
       " 51,\n",
       " 55,\n",
       " 33,\n",
       " 75,\n",
       " 95,\n",
       " 79]"
      ]
     },
     "execution_count": 15,
     "metadata": {},
     "output_type": "execute_result"
    }
   ],
   "source": [
    "[i-3 for i in another_sample if (i%2) == 0]"
   ]
  },
  {
   "cell_type": "code",
   "execution_count": 16,
   "metadata": {},
   "outputs": [
    {
     "data": {
      "text/plain": [
       "[87,\n",
       " 49,\n",
       " 1,\n",
       " 93,\n",
       " 39,\n",
       " 9,\n",
       " 19,\n",
       " 51,\n",
       " 41,\n",
       " 91,\n",
       " 65,\n",
       " 57,\n",
       " 63,\n",
       " 65,\n",
       " 69,\n",
       " 43,\n",
       " 83,\n",
       " 91,\n",
       " 39,\n",
       " 83,\n",
       " 95,\n",
       " 11,\n",
       " 57,\n",
       " 25,\n",
       " 23,\n",
       " 89,\n",
       " 37,\n",
       " 21,\n",
       " 61,\n",
       " 51,\n",
       " 55,\n",
       " 33,\n",
       " 75,\n",
       " 75,\n",
       " 29,\n",
       " 95,\n",
       " 67,\n",
       " 97,\n",
       " 79,\n",
       " 49]"
      ]
     },
     "execution_count": 16,
     "metadata": {},
     "output_type": "execute_result"
    }
   ],
   "source": [
    "#iterate over another_sample and subtract 3 from even numbers\n",
    "#keep the odd numbers\n",
    "\n",
    "even_minus_three = []\n",
    "for i in another_sample:\n",
    "    #check if even\n",
    "    if i%2 == 0:\n",
    "        #if it is even, append even_minus_three with i-3\n",
    "        even_minus_three.append(i-3)\n",
    "    else:\n",
    "        even_minus_three.append(i)\n",
    "even_minus_three"
   ]
  },
  {
   "cell_type": "code",
   "execution_count": 17,
   "metadata": {},
   "outputs": [
    {
     "data": {
      "text/plain": [
       "[87,\n",
       " 49,\n",
       " 1,\n",
       " 93,\n",
       " 39,\n",
       " 9,\n",
       " 19,\n",
       " 51,\n",
       " 41,\n",
       " 91,\n",
       " 65,\n",
       " 57,\n",
       " 63,\n",
       " 65,\n",
       " 69,\n",
       " 43,\n",
       " 83,\n",
       " 91,\n",
       " 39,\n",
       " 83,\n",
       " 95,\n",
       " 11,\n",
       " 57,\n",
       " 25,\n",
       " 23,\n",
       " 89,\n",
       " 37,\n",
       " 21,\n",
       " 61,\n",
       " 51,\n",
       " 55,\n",
       " 33,\n",
       " 75,\n",
       " 75,\n",
       " 29,\n",
       " 95,\n",
       " 67,\n",
       " 97,\n",
       " 79,\n",
       " 49]"
      ]
     },
     "execution_count": 17,
     "metadata": {},
     "output_type": "execute_result"
    }
   ],
   "source": [
    "even_minus_three = []\n",
    "for i in another_sample:\n",
    "    even_minus_three.append(i-3 if (i%2) == 0 else i)\n",
    "even_minus_three"
   ]
  },
  {
   "cell_type": "code",
   "execution_count": 20,
   "metadata": {},
   "outputs": [
    {
     "data": {
      "text/plain": [
       "[87,\n",
       " 49,\n",
       " 1,\n",
       " 93,\n",
       " 39,\n",
       " 9,\n",
       " 19,\n",
       " 51,\n",
       " 41,\n",
       " 91,\n",
       " 65,\n",
       " 57,\n",
       " 63,\n",
       " 65,\n",
       " 69,\n",
       " 43,\n",
       " 83,\n",
       " 91,\n",
       " 39,\n",
       " 83,\n",
       " 95,\n",
       " 11,\n",
       " 57,\n",
       " 25,\n",
       " 23,\n",
       " 89,\n",
       " 37,\n",
       " 21,\n",
       " 61,\n",
       " 51,\n",
       " 55,\n",
       " 33,\n",
       " 75,\n",
       " 75,\n",
       " 29,\n",
       " 95,\n",
       " 67,\n",
       " 97,\n",
       " 79,\n",
       " 49]"
      ]
     },
     "execution_count": 20,
     "metadata": {},
     "output_type": "execute_result"
    }
   ],
   "source": [
    "[i-3 if (i%2) == 0 else i for i in another_sample]"
   ]
  }
 ],
 "metadata": {
  "kernelspec": {
   "display_name": "Python 3",
   "language": "python",
   "name": "python3"
  },
  "language_info": {
   "codemirror_mode": {
    "name": "ipython",
    "version": 3
   },
   "file_extension": ".py",
   "mimetype": "text/x-python",
   "name": "python",
   "nbconvert_exporter": "python",
   "pygments_lexer": "ipython3",
   "version": "3.8.5"
  }
 },
 "nbformat": 4,
 "nbformat_minor": 4
}
