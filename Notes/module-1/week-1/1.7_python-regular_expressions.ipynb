{
 "cells": [
  {
   "cell_type": "markdown",
   "metadata": {},
   "source": [
    "# Intro to regex examples"
   ]
  },
  {
   "cell_type": "markdown",
   "metadata": {},
   "source": [
    "Regex is a tool to find patterns in text, similar to command+f on a mac. Instead of just finding the exact string match, it allows you to use pattern depeneding on what you are looking for. \n",
    "\n",
    "Literal Character - when you are looking exactly for what you type. The letter has the same meaning as you would normally expect. \n",
    "\n",
    "Meta Character - a character does not indicate a single, literal character, but indicates some type of more generalized patterns. Ex. \\d means any digit.\n",
    "\n",
    "Important!! Use a raw string or `r\"your pattern here\"` when creating regex patterns so python does not try to extract different meanings from your character combinations. "
   ]
  },
  {
   "cell_type": "code",
   "execution_count": 1,
   "metadata": {},
   "outputs": [],
   "source": [
    "import re"
   ]
  },
  {
   "cell_type": "code",
   "execution_count": 5,
   "metadata": {},
   "outputs": [
    {
     "name": "stdout",
     "output_type": "stream",
     "text": [
      "What's your email?emily@gmail.com\n"
     ]
    }
   ],
   "source": [
    "pattern = r\"[a-zA-Z0-9(._)]+@[a-zA-Z0-9]+.(com|edu|de|net)\"\n",
    "user_input = input(\"What's your email?\")"
   ]
  },
  {
   "cell_type": "code",
   "execution_count": 6,
   "metadata": {},
   "outputs": [
    {
     "name": "stdout",
     "output_type": "stream",
     "text": [
      "Valid Email!\n"
     ]
    }
   ],
   "source": [
    "if re.search(pattern, user_input):\n",
    "    print(\"Valid Email!\")\n",
    "else:\n",
    "    print(\"Invalid Email\")"
   ]
  }
 ],
 "metadata": {
  "kernelspec": {
   "display_name": "Python 3",
   "language": "python",
   "name": "python3"
  },
  "language_info": {
   "codemirror_mode": {
    "name": "ipython",
    "version": 3
   },
   "file_extension": ".py",
   "mimetype": "text/x-python",
   "name": "python",
   "nbconvert_exporter": "python",
   "pygments_lexer": "ipython3",
   "version": "3.8.5"
  }
 },
 "nbformat": 4,
 "nbformat_minor": 4
}
