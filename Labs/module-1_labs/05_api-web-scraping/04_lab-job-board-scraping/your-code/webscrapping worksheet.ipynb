{
 "cells": [
  {
   "cell_type": "code",
   "execution_count": 190,
   "metadata": {},
   "outputs": [],
   "source": [
    "import pandas as pd\n",
    "from bs4 import BeautifulSoup\n",
    "import requests"
   ]
  },
  {
   "cell_type": "code",
   "execution_count": 191,
   "metadata": {},
   "outputs": [],
   "source": [
    "url = \"https://www.coursereport.com/best-coding-bootcamps\""
   ]
  },
  {
   "cell_type": "code",
   "execution_count": 192,
   "metadata": {},
   "outputs": [],
   "source": [
    "resp = requests.get(url)"
   ]
  },
  {
   "cell_type": "code",
   "execution_count": null,
   "metadata": {},
   "outputs": [],
   "source": []
  },
  {
   "cell_type": "code",
   "execution_count": null,
   "metadata": {},
   "outputs": [],
   "source": []
  },
  {
   "cell_type": "code",
   "execution_count": null,
   "metadata": {},
   "outputs": [],
   "source": []
  },
  {
   "cell_type": "code",
   "execution_count": 193,
   "metadata": {},
   "outputs": [],
   "source": [
    "soup = BeautifulSoup(resp.content, \"html.parser\")"
   ]
  },
  {
   "cell_type": "markdown",
   "metadata": {},
   "source": [
    " (soup.body.find(\"div\", class_=\"main-body\")\n",
    "                     .find(\"div\", class_=\"longform-body container\")\n",
    "                     .find(\"div\", class_=\"row\")\n",
    "                     .find(\"div\", class_=\"col-md-11\")\n",
    "                     .find(\"ul\", id=\"schools\")\n",
    "                     .find_all(\"li\"))"
   ]
  },
  {
   "cell_type": "code",
   "execution_count": 115,
   "metadata": {},
   "outputs": [],
   "source": [
    "#[x.a.text for x in soup.find_all(\"h3\", \"longform-review-title\")]"
   ]
  },
  {
   "cell_type": "code",
   "execution_count": 194,
   "metadata": {},
   "outputs": [
    {
     "data": {
      "text/plain": [
       "'Senior Software Engineer'"
      ]
     },
     "execution_count": 194,
     "metadata": {},
     "output_type": "execute_result"
    }
   ],
   "source": [
    "soup.find_all(\"h3\", \"longform-review-title\")[1].a.text"
   ]
  },
  {
   "cell_type": "code",
   "execution_count": null,
   "metadata": {},
   "outputs": [],
   "source": []
  },
  {
   "cell_type": "code",
   "execution_count": 57,
   "metadata": {},
   "outputs": [
    {
     "data": {
      "text/plain": [
       "'Review By: Austen '"
      ]
     },
     "execution_count": 57,
     "metadata": {},
     "output_type": "execute_result"
    }
   ],
   "source": [
    "soup.find_all(\"h5\", \"reviewed-by\")[1].text"
   ]
  },
  {
   "cell_type": "code",
   "execution_count": 53,
   "metadata": {},
   "outputs": [],
   "source": [
    "#[x.text for x in soup.find_all(\"h5\", \"reviewed-by\")]"
   ]
  },
  {
   "cell_type": "code",
   "execution_count": 205,
   "metadata": {},
   "outputs": [
    {
     "data": {
      "text/plain": [
       "61"
      ]
     },
     "execution_count": 205,
     "metadata": {},
     "output_type": "execute_result"
    }
   ],
   "source": [
    "len([x.text for x in soup.find_all(\"span\", \"location\")])"
   ]
  },
  {
   "cell_type": "code",
   "execution_count": 66,
   "metadata": {},
   "outputs": [
    {
     "data": {
      "text/plain": [
       "61"
      ]
     },
     "execution_count": 66,
     "metadata": {},
     "output_type": "execute_result"
    }
   ],
   "source": [
    "len([x.text for x in soup.find_all(\"span\", \"courses\")])"
   ]
  },
  {
   "cell_type": "code",
   "execution_count": 15,
   "metadata": {},
   "outputs": [
    {
     "data": {
      "text/plain": [
       "<li class=\"school-li\" data-average=\"4.68\" data-count=\"453\" data-name=\"Flatiron School\"><div class=\"school-header\"><h3><a href=\"/schools/flatiron-school\">1. Flatiron School</a></h3><div class=\"banner-container\"><img alt=\"Established school badge\" class=\"banner\" src=\"https://coursereport-production-herokuapp-com.global.ssl.fastly.net/assets/established_school_badge-27e2090d700676cff023ef04712115e4.png\"/><img alt=\"Large alumni network badge\" class=\"banner\" src=\"https://coursereport-production-herokuapp-com.global.ssl.fastly.net/assets/large_alumni_network_badge-ec0e8144bd182faf8b2a5cd87df36192.png\"/><img alt=\"Transparent outcomes badge\" class=\"banner\" src=\"https://coursereport-production-herokuapp-com.global.ssl.fastly.net/assets/transparent_outcomes_badge-4ac3e45e179e49b810251b163d57f342.png\"/></div></div><div class=\"school-listing__subheader\"><div><p class=\"ratings\"><span class=\"icon-full_star\"></span><span class=\"icon-full_star\"></span><span class=\"icon-full_star\"></span><span class=\"icon-full_star\"></span><span class=\"icon-half_star\"></span><p class=\"rating-number\">Avg Rating: 4.68 <a href=\"/schools/flatiron-school#reviews\">(453 reviews)</a></p></p></div><p class=\"details\"><span class=\"location\"><span class=\"icon-location\"></span><a href=\"/cities/houston\">Houston</a>, <a href=\"/cities/austin-coding-bootcamps\">Austin</a>, <a href=\"/cities/washington-coding-bootcamps\">Washington</a>, and 6 more...</span><span class=\"courses\"><span class=\"icon-list\"></span>7 Courses</span><div class=\"school-listing\"></div></p></div><a href=\"/schools/flatiron-school\"><div class=\"school-image\"><img alt=\"flatiron-school-logo\" src=\"https://coursereport-s3-production.global.ssl.fastly.net/rich/rich_files/rich_files/999/s100/flatironschool.png\" title=\"Flatiron School Logo\"/></div></a><p class=\"description\"><p>Flatiron School offers immersive on-campus and online programs in software engineering, data science, and cybersecurity in NYC, Brooklyn, Washington DC, Houston, Austin, Seattle, Chicago, Denver, and Online. Flatiron School’s immersive courses aim to launch students into fulfilling careers as software engineers, and data scientists through rigorous, market-aligned curricula, and the support of seasoned instructors and personal career coaches. Through test-driven labs and portfolio projects, Flatiron School teaches students to think and build like software engineers and data scientists.</p> </p><div class=\"longform-review-container\"><h3 class=\"longform-review-title\"><a href=\"/schools/flatiron-school#reviews\">Beyond Grateful for the Flatiron School Community</a></h3><p class=\"longform-review-preview\">Enrolling in the Flatiron School boot camp was probably the best decision I've made, both financially and personally. The boot camp does cost a fair amount of m <a href=\"/schools/flatiron-school#reviews\">( ...read more)</a></p><h5 class=\"reviewed-by\">Review By: Laura </h5><div class=\"ratings\"><span class=\"longform-rating-text\">Reviewer's Score:</span> <span class=\"icon-full_star\"></span><span class=\"icon-full_star\"></span><span class=\"icon-full_star\"></span><span class=\"icon-full_star\"></span><span class=\"icon-full_star\"></span><span class=\"pull-right\"><a class=\"btn btn-inverse\" href=\"/schools/flatiron-school#reviews\" id=\"review-button\">Read Full Review</a></span></div></div></li>"
      ]
     },
     "execution_count": 15,
     "metadata": {},
     "output_type": "execute_result"
    }
   ],
   "source": [
    "sample_school"
   ]
  },
  {
   "cell_type": "markdown",
   "metadata": {},
   "source": []
  },
  {
   "cell_type": "code",
   "execution_count": 123,
   "metadata": {},
   "outputs": [],
   "source": [
    "url = \"https://roundranking.com/ranking/world-university-rankings.html#world-2020\""
   ]
  },
  {
   "cell_type": "code",
   "execution_count": 124,
   "metadata": {},
   "outputs": [],
   "source": [
    "response = requests.get(url)"
   ]
  },
  {
   "cell_type": "code",
   "execution_count": 127,
   "metadata": {},
   "outputs": [],
   "source": [
    "soupp = BeautifulSoup(resp.content, \"html.parser\")"
   ]
  },
  {
   "cell_type": "code",
   "execution_count": null,
   "metadata": {},
   "outputs": [],
   "source": [
    "\n",
    "#sample.find(\"div\").find(\"h3\").find(\"a\")"
   ]
  },
  {
   "cell_type": "code",
   "execution_count": 133,
   "metadata": {},
   "outputs": [
    {
     "ename": "AttributeError",
     "evalue": "'NoneType' object has no attribute 'find'",
     "output_type": "error",
     "traceback": [
      "\u001b[1;31m---------------------------------------------------------------------------\u001b[0m",
      "\u001b[1;31mAttributeError\u001b[0m                            Traceback (most recent call last)",
      "\u001b[1;32m<ipython-input-133-8db310b130d9>\u001b[0m in \u001b[0;36m<module>\u001b[1;34m\u001b[0m\n\u001b[1;32m----> 1\u001b[1;33m \u001b[0msoupp\u001b[0m\u001b[1;33m.\u001b[0m\u001b[0mfind\u001b[0m\u001b[1;33m(\u001b[0m\u001b[1;34m\"td\"\u001b[0m\u001b[1;33m)\u001b[0m\u001b[1;33m.\u001b[0m\u001b[0mfind\u001b[0m\u001b[1;33m(\u001b[0m\u001b[1;34m\"a\"\u001b[0m\u001b[1;33m)\u001b[0m\u001b[1;33m\u001b[0m\u001b[1;33m\u001b[0m\u001b[0m\n\u001b[0m",
      "\u001b[1;31mAttributeError\u001b[0m: 'NoneType' object has no attribute 'find'"
     ]
    }
   ],
   "source": [
    "soupp.find(\"td\").find(\"a\")\n"
   ]
  },
  {
   "cell_type": "code",
   "execution_count": 195,
   "metadata": {},
   "outputs": [],
   "source": [
    "url = \"https://www.coursereport.com/best-coding-bootcamps\""
   ]
  },
  {
   "cell_type": "code",
   "execution_count": 196,
   "metadata": {},
   "outputs": [],
   "source": [
    "response = requests.get(url)"
   ]
  },
  {
   "cell_type": "code",
   "execution_count": 197,
   "metadata": {},
   "outputs": [],
   "source": [
    "soup_copy = BeautifulSoup(response.content, \"html.parser\")"
   ]
  },
  {
   "cell_type": "code",
   "execution_count": 206,
   "metadata": {},
   "outputs": [],
   "source": [
    "school_list_items_2 = soup_copy.find(\"ul\", id=\"schools\").find_all(\"li\")"
   ]
  },
  {
   "cell_type": "code",
   "execution_count": 207,
   "metadata": {},
   "outputs": [
    {
     "ename": "AttributeError",
     "evalue": "ResultSet object has no attribute 'find_all'. You're probably treating a list of elements like a single element. Did you call find_all() when you meant to call find()?",
     "output_type": "error",
     "traceback": [
      "\u001b[1;31m---------------------------------------------------------------------------\u001b[0m",
      "\u001b[1;31mAttributeError\u001b[0m                            Traceback (most recent call last)",
      "\u001b[1;32m<ipython-input-207-5415fb2a9f49>\u001b[0m in \u001b[0;36m<module>\u001b[1;34m\u001b[0m\n\u001b[1;32m----> 1\u001b[1;33m \u001b[0mschool_list_items_2\u001b[0m\u001b[1;33m.\u001b[0m\u001b[0mfind_all\u001b[0m\u001b[1;33m(\u001b[0m\u001b[1;34m\"div\"\u001b[0m\u001b[1;33m,\u001b[0m \u001b[1;34m\"school-header\"\u001b[0m\u001b[1;33m)\u001b[0m\u001b[1;33m\u001b[0m\u001b[1;33m\u001b[0m\u001b[0m\n\u001b[0m",
      "\u001b[1;32m~\\anaconda3\\envs\\matrix\\lib\\site-packages\\bs4\\element.py\u001b[0m in \u001b[0;36m__getattr__\u001b[1;34m(self, key)\u001b[0m\n\u001b[0;32m   2159\u001b[0m         \u001b[1;34m\"\"\"Raise a helpful exception to explain a common code fix.\"\"\"\u001b[0m\u001b[1;33m\u001b[0m\u001b[1;33m\u001b[0m\u001b[0m\n\u001b[0;32m   2160\u001b[0m         raise AttributeError(\n\u001b[1;32m-> 2161\u001b[1;33m             \u001b[1;34m\"ResultSet object has no attribute '%s'. You're probably treating a list of elements like a single element. Did you call find_all() when you meant to call find()?\"\u001b[0m \u001b[1;33m%\u001b[0m \u001b[0mkey\u001b[0m\u001b[1;33m\u001b[0m\u001b[1;33m\u001b[0m\u001b[0m\n\u001b[0m\u001b[0;32m   2162\u001b[0m         )\n",
      "\u001b[1;31mAttributeError\u001b[0m: ResultSet object has no attribute 'find_all'. You're probably treating a list of elements like a single element. Did you call find_all() when you meant to call find()?"
     ]
    }
   ],
   "source": [
    "school_list_items_2.find_all(\"div\", \"school-header\")"
   ]
  },
  {
   "cell_type": "code",
   "execution_count": null,
   "metadata": {},
   "outputs": [],
   "source": []
  }
 ],
 "metadata": {
  "kernelspec": {
   "display_name": "Python 3",
   "language": "python",
   "name": "python3"
  },
  "language_info": {
   "codemirror_mode": {
    "name": "ipython",
    "version": 3
   },
   "file_extension": ".py",
   "mimetype": "text/x-python",
   "name": "python",
   "nbconvert_exporter": "python",
   "pygments_lexer": "ipython3",
   "version": "3.7.1"
  }
 },
 "nbformat": 4,
 "nbformat_minor": 4
}
